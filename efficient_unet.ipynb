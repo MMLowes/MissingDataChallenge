{
 "cells": [
  {
   "cell_type": "code",
   "execution_count": 55,
   "metadata": {},
   "outputs": [
    {
     "name": "stdout",
     "output_type": "stream",
     "text": [
      "The autoreload extension is already loaded. To reload it, use:\n",
      "  %reload_ext autoreload\n"
     ]
    }
   ],
   "source": [
    "%load_ext autoreload\n",
    "%autoreload 2\n",
    "from types import SimpleNamespace\n",
    "import json\n",
    "import os\n",
    "import tqdm\n",
    "import torch\n",
    "import torch.nn as nn\n",
    "from torch.utils.data import Dataset, DataLoader\n",
    "from models.efficient_unet import AbstractUNet\n",
    "from dataset import CatDataset\n",
    "from inpaint_tools import read_file_list\n",
    "from skimage import io\n",
    "import numpy as np\n",
    "import pathlib"
   ]
  },
  {
   "cell_type": "code",
   "execution_count": 56,
   "metadata": {},
   "outputs": [],
   "source": [
    "args = {\"unet\": {\"block\": \"ffmmm\", #m=MBConv,f=FusedMBConv,u=Unet \n",
    "                    \"act\": \"silu\",\n",
    "                    \"res_mode\": \"cat\", #cat, add\n",
    "                    \"init_mode\": \"effecientnetv2\",\n",
    "                    \"downscale_mode\": \"avgpool\",\n",
    "                    \"upscale_mode\": \"bilinear\",\n",
    "                    \"input_channels\": 4,\n",
    "                    \"output_channels\": 3,\n",
    "                    \"num_blocks\": 5,\n",
    "                    \"num_c\": [8,16,32,48,64],\n",
    "                    \"num_repeat\": [1,2,2,4,4],\n",
    "                    \"expand_ratio\": [1,4,4,6,6],\n",
    "                    \"SE\": [0,0,1,1,1]\n",
    "                }}\n",
    "\n",
    "args = {\"unet\": {\"block\": \"ffmmm\", #m=MBConv,f=FusedMBConv,u=Unet \n",
    "                    \"act\": \"silu\",\n",
    "                    \"res_mode\": \"cat\", #cat, add\n",
    "                    \"init_mode\": \"effecientnetv2\",\n",
    "                    \"downscale_mode\": \"avgpool\",\n",
    "                    \"upscale_mode\": \"bilinear\",\n",
    "                    \"input_channels\": 4,\n",
    "                    \"output_channels\": 3,\n",
    "                    \"num_blocks\": 4,\n",
    "                    \"num_c\": [8,16,32,64],\n",
    "                    \"num_repeat\": [1,2,2,4],\n",
    "                    \"expand_ratio\": [1,4,4,6],\n",
    "                    \"SE\": [0,0,1,1]\n",
    "                }}\n",
    "args_n = json.loads(json.dumps(args), object_hook=lambda item: SimpleNamespace(**item))"
   ]
  },
  {
   "cell_type": "code",
   "execution_count": 57,
   "metadata": {},
   "outputs": [],
   "source": [
    "device = \"cuda:0\" if torch.cuda.is_available() else \"cpu\"\n",
    "net = AbstractUNet(args_n).to(device)"
   ]
  },
  {
   "cell_type": "code",
   "execution_count": 58,
   "metadata": {},
   "outputs": [
    {
     "data": {
      "text/plain": [
       "torch.Size([1, 3, 360, 360])"
      ]
     },
     "execution_count": 58,
     "metadata": {},
     "output_type": "execute_result"
    }
   ],
   "source": [
    "test = torch.zeros((1,4,360,360)).to(device)\n",
    "output = net(test)\n",
    "output.shape"
   ]
  },
  {
   "cell_type": "code",
   "execution_count": 59,
   "metadata": {},
   "outputs": [
    {
     "name": "stdout",
     "output_type": "stream",
     "text": [
      "[torch.Size([4, 360, 360]), torch.Size([1, 360, 360]), torch.Size([3, 360, 360])]\n"
     ]
    }
   ],
   "source": [
    "settings = {\n",
    "\t\"team_data\":\n",
    "\t{\n",
    "\t\t\"name\": \"YourTeamNameHere\"\n",
    "\t},\n",
    "    \"training_parms\": {\n",
    "\t\t\"method\": \"YourMethodHere\",\n",
    "\t\t\"dummy_value\": 1000\n",
    "    },\n",
    "    \"dirs\": {\n",
    "            \"input_data_dir\": \"C:/Users/lowes/OneDrive/Skrivebord/DTU/summer_school_23/MissingDataChallenge/data/\",\n",
    "\t\t\t\"output_data_dir\": \"missing_data_output/\"\n",
    "\t},\n",
    "\t\"challenge_server\": {\n",
    "\t\t\"address\": \"http://fungi.compute.dtu.dk:8080\"\n",
    "\t},\n",
    "\t\"data_set\": \"training\",\n",
    "\t\"batch_size\": 4,\n",
    "\t\"num_workers\": 0,\n",
    "}\n",
    "\n",
    "\n",
    "dataset_train = CatDataset(settings)\n",
    "print([d.shape for d in dataset_train[0]])\n",
    "\n",
    "dl = DataLoader(dataset_train, \n",
    "\t\t\t\tbatch_size=settings[\"batch_size\"],\n",
    "                shuffle=True,\n",
    "                num_workers=settings[\"num_workers\"])"
   ]
  },
  {
   "cell_type": "code",
   "execution_count": 60,
   "metadata": {},
   "outputs": [],
   "source": [
    "import copy\n",
    "def save_image(save_name, output, mask, image):\n",
    "    \n",
    "    output = output.permute(1,2,0).detach().cpu().numpy()\n",
    "    mask = mask.squeeze().cpu().numpy()\n",
    "    image = image.permute(1,2,0).cpu().numpy()\n",
    "    mask = np.stack((mask,mask,mask),-1)\n",
    "    combined = copy.deepcopy(image)\n",
    "    combined[mask.astype(np.bool)] = output[mask.astype(np.bool)]\n",
    "    print(output.shape)\n",
    "    print(mask.shape)\n",
    "    print(image.shape)\n",
    "    print(combined.shape)\n",
    "    arr = np.concatenate((image,mask,output,combined),1)\n",
    "    arr = np.clip(arr,0,1)\n",
    "    io.imsave(save_name, arr)"
   ]
  },
  {
   "attachments": {},
   "cell_type": "markdown",
   "metadata": {},
   "source": [
    "## Train"
   ]
  },
  {
   "cell_type": "code",
   "execution_count": 61,
   "metadata": {},
   "outputs": [
    {
     "name": "stderr",
     "output_type": "stream",
     "text": [
      "Epoch 1: 100%|██████████| 1242/1242 [05:07<00:00,  4.03batch/s, loss=0.00687]\n",
      "C:\\Users\\lowes\\AppData\\Local\\Temp\\ipykernel_8536\\1138676724.py:9: DeprecationWarning: `np.bool` is a deprecated alias for the builtin `bool`. To silence this warning, use `bool` by itself. Doing this will not modify any behavior and is safe. If you specifically wanted the numpy scalar type, use `np.bool_` here.\n",
      "Deprecated in NumPy 1.20; for more details and guidance: https://numpy.org/devdocs/release/1.20.0-notes.html#deprecations\n",
      "  combined[mask.astype(np.bool)] = output[mask.astype(np.bool)]\n",
      "Lossy conversion from float32 to uint8. Range [0, 1]. Convert image to uint8 prior to saving to suppress this warning.\n"
     ]
    },
    {
     "name": "stdout",
     "output_type": "stream",
     "text": [
      "validation loss:  0.0024539827648550274\n",
      "(360, 360, 3)\n",
      "(360, 360, 3)\n",
      "(360, 360, 3)\n",
      "(360, 360, 3)\n"
     ]
    },
    {
     "name": "stderr",
     "output_type": "stream",
     "text": [
      "Epoch 2:  21%|██        | 256/1242 [00:53<03:49,  4.29batch/s, loss=0.00363]"
     ]
    }
   ],
   "source": [
    "dataset_train = CatDataset(settings)\n",
    "dl_train = DataLoader(dataset_train, \n",
    "\t\t\t\tbatch_size=settings[\"batch_size\"],\n",
    "                shuffle=True,\n",
    "                num_workers=settings[\"num_workers\"])\n",
    "\n",
    "settings[\"data_set\"] = \"validation_200\"\n",
    "dataset_val = CatDataset(settings)\n",
    "dl_val = DataLoader(dataset_val, \n",
    "\t\t\t\tbatch_size=settings[\"batch_size\"],\n",
    "                shuffle=True,\n",
    "                num_workers=settings[\"num_workers\"])\n",
    "\n",
    "# Create the model, loss function, and optimizer\n",
    "NUM_EPOCHS = 100\n",
    "\n",
    "device = \"cuda:0\" if torch.cuda.is_available() else \"cpu\"\n",
    "model = AbstractUNet(args_n).to(device)\n",
    "\n",
    "criterion = nn.MSELoss()\n",
    "optimizer = torch.optim.Adam(model.parameters(), lr=0.0001)\n",
    "val_loss = \"NA\"\n",
    "save_dir = os.path.join(settings[\"dirs\"][\"output_data_dir\"], \"efficient_unet\")\n",
    "save_image_dir = os.path.join(save_dir,\"train_images\")\n",
    "pathlib.Path(save_image_dir).mkdir(parents=True, exist_ok=True)\n",
    "\n",
    "# Training loop\n",
    "for epoch in range(NUM_EPOCHS):\n",
    "    model.train()\n",
    "    running_loss = 0.0\n",
    "\n",
    "    # Create a progress bar using tqdm\n",
    "    with tqdm.tqdm(dl_train, unit=\"batch\") as tepoch:\n",
    "        for batch in tepoch:\n",
    "            model_input, mask, image = batch\n",
    "            model_input, mask, image = model_input.to(device), mask.to(device), image.to(device)\n",
    "            \n",
    "            optimizer.zero_grad()\n",
    "\n",
    "            # Forward pass\n",
    "            outputs = model(model_input)\n",
    "\n",
    "            loss = criterion(outputs*mask, image*mask)\n",
    "\n",
    "            # Backpropagation and optimization\n",
    "            loss.backward()\n",
    "            optimizer.step()\n",
    "\n",
    "            # Update progress bar description with loss\n",
    "            tepoch.set_description(f\"Epoch {epoch+1}\")\n",
    "            tepoch.set_postfix(loss=loss.item())\n",
    "\n",
    "            # Accumulate loss for this epoch\n",
    "            running_loss += loss.item()\n",
    "\n",
    "    # Calculate and print average loss for the epoch\n",
    "    average_loss = running_loss / len(dl_train)\n",
    "\n",
    "    model.eval()\n",
    "    running_val = 0.0\n",
    "\n",
    "    for batch in dl_val:\n",
    "        model_input, mask, image = batch\n",
    "        model_input, mask, image = model_input.to(device), mask.to(device), image.to(device)\n",
    "\n",
    "        outputs = model(model_input)\n",
    "\n",
    "        loss = criterion(outputs*mask, image*mask)\n",
    "        running_val += loss.item()\n",
    "\n",
    "    avg_val = running_val / len(dl_val)\n",
    "    print(\"validation loss: \", avg_val)\n",
    "    \n",
    "    save_image_name = os.path.join(save_image_dir,f\"val_epoch_{epoch}.png\")\n",
    "    save_image(save_image_name,outputs[0],mask[0],image[0])\n",
    "\n"
   ]
  }
 ],
 "metadata": {
  "kernelspec": {
   "display_name": "DeepLearning",
   "language": "python",
   "name": "python3"
  },
  "language_info": {
   "codemirror_mode": {
    "name": "ipython",
    "version": 3
   },
   "file_extension": ".py",
   "mimetype": "text/x-python",
   "name": "python",
   "nbconvert_exporter": "python",
   "pygments_lexer": "ipython3",
   "version": "3.9.13"
  },
  "orig_nbformat": 4
 },
 "nbformat": 4,
 "nbformat_minor": 2
}
